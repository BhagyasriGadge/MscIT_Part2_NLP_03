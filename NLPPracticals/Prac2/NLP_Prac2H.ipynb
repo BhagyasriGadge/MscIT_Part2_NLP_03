{
  "nbformat": 4,
  "nbformat_minor": 0,
  "metadata": {
    "colab": {
      "name": "NLP_Prac2H.ipynb",
      "provenance": []
    },
    "kernelspec": {
      "name": "python3",
      "display_name": "Python 3"
    },
    "language_info": {
      "name": "python"
    }
  },
  "cells": [
    {
      "cell_type": "code",
      "execution_count": null,
      "metadata": {
        "colab": {
          "base_uri": "https://localhost:8080/"
        },
        "id": "Fxhsw-nNNoiC",
        "outputId": "ce507b5b-c3ab-45df-b3d3-704470ce8309"
      },
      "outputs": [
        {
          "name": "stdout",
          "output_type": "stream",
          "text": [
            "MENU\n",
            "-----------\n",
            " 1 . Hash tag segmentation \n",
            " 2 . URL segmentation \n",
            "enter the input choice for performing word segmentation\n",
            "1\n"
          ]
        }
      ],
      "source": [
        "from __future__ import with_statement #with statement for reading file\n",
        "import re # Regular expression\n",
        "words = [] # corpus file words\n",
        "testword = [] # test words \n",
        "ans = [] # words matches with corpus\n",
        "print(\"MENU\")\n",
        "print(\"-----------\")\n",
        "print(\" 1 . Hash tag segmentation \")\n",
        "print(\" 2 . URL segmentation \")\n",
        "print(\"enter the input choice for performing word segmentation\")\n",
        "choice = int(input())"
      ]
    },
    {
      "cell_type": "code",
      "source": [
        "if choice == 1:\n",
        "  text = \"#whatismyname\" # hash tag test data to segment\n",
        "  print(\"input with HashTag\",text)\n",
        "  pattern=re.compile(\"[^\\w']\")\n",
        "  a = pattern.sub('', text)\n",
        "elif choice == 2:\n",
        "  text = \"www.whatismyname.com\" # url test data to segment\n",
        "  print(\"input with URL\",text)\n",
        "  a=re.split('\\s|(?<!\\d)[,.](?!\\d)', text)\n",
        "  splitwords = [\"www\",\"com\",\"in\"] # remove the words which is containg in the list\n",
        "  a =\"\".join([each for each in a if each not in splitwords])\n",
        "else:\n",
        "  print(\"wrong choice...try again\")\n",
        "print(a)"
      ],
      "metadata": {
        "colab": {
          "base_uri": "https://localhost:8080/"
        },
        "id": "WPqTlTKpOLuz",
        "outputId": "abb3b1d9-b636-4dfa-917c-4829b9d1b1fe"
      },
      "execution_count": null,
      "outputs": [
        {
          "output_type": "stream",
          "name": "stdout",
          "text": [
            "input with HashTag #whatismyname\n",
            "whatismyname\n"
          ]
        }
      ]
    },
    {
      "cell_type": "code",
      "source": [
        "for each in a:\n",
        "  testword.append(each) #test word\n",
        "test_lenth = len(testword) # lenth of the test data"
      ],
      "metadata": {
        "id": "nZ1jt4o5Ofia"
      },
      "execution_count": null,
      "outputs": []
    },
    {
      "cell_type": "code",
      "source": [
        "# Reading the corpus\n",
        "with open('/content/sample_data/words.txt', 'r') as f:\n",
        "  lines = f.readlines()\n",
        "  words =[(e.strip()) for e in lines]"
      ],
      "metadata": {
        "id": "8HkxM3q-OhPq"
      },
      "execution_count": null,
      "outputs": []
    },
    {
      "cell_type": "code",
      "source": [
        "def Seg(a,lenth):\n",
        "  ans =[]\n",
        "  # this loop checks char by char in the corpus\n",
        "  for k in range(0,lenth+1):\n",
        "    if a[0:k] in words:\n",
        "      print(a[0:k],\"-appears in the corpus\")\n",
        "      ans.append(a[0:k])\n",
        "      break\n",
        "  if ans != []:\n",
        "    g = max(ans,key=len)\n",
        "    return g"
      ],
      "metadata": {
        "id": "qvy2S8-zOmBi"
      },
      "execution_count": null,
      "outputs": []
    },
    {
      "cell_type": "code",
      "source": [
        "test_tot_itr = 0 #each iteration value\n",
        "answer = [] # Store the each word contains the corpus\n",
        "Score = 0 # initial value for score\n",
        "N = 37 # total no of corpus\n",
        "M = 0\n",
        "C = 0"
      ],
      "metadata": {
        "id": "F9gZtHdUO8lq"
      },
      "execution_count": null,
      "outputs": []
    },
    {
      "cell_type": "code",
      "source": [
        "while test_tot_itr < test_lenth:\n",
        "  ans_words = Seg(a,test_lenth)\n",
        "  if ans_words.len > 0:\n",
        "    test_itr = len(ans_words)\n",
        "    answer.append(ans_words)\n",
        "    a = a[test_itr:test_lenth]\n",
        "    test_tot_itr += test_itr"
      ],
      "metadata": {
        "colab": {
          "base_uri": "https://localhost:8080/",
          "height": 235
        },
        "id": "YDgPiRorPCdB",
        "outputId": "2dfb17c1-636d-4314-896a-4d26bcf7caf8"
      },
      "execution_count": null,
      "outputs": [
        {
          "output_type": "error",
          "ename": "AttributeError",
          "evalue": "ignored",
          "traceback": [
            "\u001b[0;31m---------------------------------------------------------------------------\u001b[0m",
            "\u001b[0;31mAttributeError\u001b[0m                            Traceback (most recent call last)",
            "\u001b[0;32m<ipython-input-14-df0fc4f5c742>\u001b[0m in \u001b[0;36m<module>\u001b[0;34m()\u001b[0m\n\u001b[1;32m      1\u001b[0m \u001b[0;32mwhile\u001b[0m \u001b[0mtest_tot_itr\u001b[0m \u001b[0;34m<\u001b[0m \u001b[0mtest_lenth\u001b[0m\u001b[0;34m:\u001b[0m\u001b[0;34m\u001b[0m\u001b[0;34m\u001b[0m\u001b[0m\n\u001b[1;32m      2\u001b[0m   \u001b[0mans_words\u001b[0m \u001b[0;34m=\u001b[0m \u001b[0mSeg\u001b[0m\u001b[0;34m(\u001b[0m\u001b[0ma\u001b[0m\u001b[0;34m,\u001b[0m\u001b[0mtest_lenth\u001b[0m\u001b[0;34m)\u001b[0m\u001b[0;34m\u001b[0m\u001b[0;34m\u001b[0m\u001b[0m\n\u001b[0;32m----> 3\u001b[0;31m   \u001b[0;32mif\u001b[0m \u001b[0mans_words\u001b[0m\u001b[0;34m.\u001b[0m\u001b[0mlen\u001b[0m \u001b[0;34m>\u001b[0m \u001b[0;36m0\u001b[0m\u001b[0;34m:\u001b[0m\u001b[0;34m\u001b[0m\u001b[0;34m\u001b[0m\u001b[0m\n\u001b[0m\u001b[1;32m      4\u001b[0m     \u001b[0mtest_itr\u001b[0m \u001b[0;34m=\u001b[0m \u001b[0mlen\u001b[0m\u001b[0;34m(\u001b[0m\u001b[0mans_words\u001b[0m\u001b[0;34m)\u001b[0m\u001b[0;34m\u001b[0m\u001b[0;34m\u001b[0m\u001b[0m\n\u001b[1;32m      5\u001b[0m     \u001b[0manswer\u001b[0m\u001b[0;34m.\u001b[0m\u001b[0mappend\u001b[0m\u001b[0;34m(\u001b[0m\u001b[0mans_words\u001b[0m\u001b[0;34m)\u001b[0m\u001b[0;34m\u001b[0m\u001b[0;34m\u001b[0m\u001b[0m\n",
            "\u001b[0;31mAttributeError\u001b[0m: 'NoneType' object has no attribute 'len'"
          ]
        }
      ]
    },
    {
      "cell_type": "code",
      "source": [
        "Aft_Seg = \" \".join([each for each in answer])\n",
        "# print segmented words in the list\n",
        "print(\"output\")\n",
        "print(\"---------\")\n",
        "print(Aft_Seg) # print After segmentation the input\n",
        "# Calculating Score\n",
        "C = len(answer)\n",
        "score = C * N / N # Calculate the score\n",
        "print(\"Score\",score)"
      ],
      "metadata": {
        "id": "H_MlqktLPLua"
      },
      "execution_count": null,
      "outputs": []
    }
  ]
}