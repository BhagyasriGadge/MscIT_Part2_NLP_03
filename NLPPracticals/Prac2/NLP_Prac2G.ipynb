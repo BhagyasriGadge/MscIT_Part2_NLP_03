{
  "nbformat": 4,
  "nbformat_minor": 0,
  "metadata": {
    "colab": {
      "name": "NLP_Prac2G.ipynb",
      "provenance": [],
      "collapsed_sections": []
    },
    "kernelspec": {
      "name": "python3",
      "display_name": "Python 3"
    },
    "language_info": {
      "name": "python"
    }
  },
  "cells": [
    {
      "cell_type": "code",
      "source": [
        "#i) DefaultTagger\n",
        "import nltk\n",
        "nltk.download('treebank')\n",
        "from nltk.tag import DefaultTagger\n",
        "exptagger = DefaultTagger('NN')\n",
        "from nltk.corpus import treebank\n",
        "testsentences = treebank.tagged_sents() [1000:]\n",
        "print(exptagger.evaluate (testsentences))"
      ],
      "metadata": {
        "colab": {
          "base_uri": "https://localhost:8080/"
        },
        "id": "IZFKY7D2v81H",
        "outputId": "af5990d1-048a-4235-a3d5-79d99522398e"
      },
      "execution_count": 11,
      "outputs": [
        {
          "output_type": "stream",
          "name": "stdout",
          "text": [
            "[nltk_data] Downloading package treebank to /root/nltk_data...\n",
            "[nltk_data]   Unzipping corpora/treebank.zip.\n",
            "0.13198749536374715\n"
          ]
        }
      ]
    },
    {
      "cell_type": "code",
      "source": [
        "#Tagging a list of sentences\n",
        "import nltk\n",
        "from nltk.tag import DefaultTagger\n",
        "exptagger = DefaultTagger('NN')\n",
        "print(exptagger.tag_sents([['Hi', ','], ['How', 'are', 'you', '?']]))"
      ],
      "metadata": {
        "colab": {
          "base_uri": "https://localhost:8080/"
        },
        "id": "44GQodMxwFG0",
        "outputId": "bc0a8e8f-7548-4e91-a133-536a7b7a6cb9"
      },
      "execution_count": 12,
      "outputs": [
        {
          "output_type": "stream",
          "name": "stdout",
          "text": [
            "[[('Hi', 'NN'), (',', 'NN')], [('How', 'NN'), ('are', 'NN'), ('you', 'NN'), ('?', 'NN')]]\n"
          ]
        }
      ]
    },
    {
      "cell_type": "code",
      "source": [
        "#ii) Regular expression tagger,\n",
        "nltk.download('brown')\n",
        "from nltk.corpus import brown\n",
        "from nltk.tag import RegexpTagger\n",
        "test_sent = brown.sents(categories='news')[0]\n",
        "regexp_tagger = RegexpTagger(\n",
        "[(r'^-?[0-9]+(.[0-9]+)?$', 'CD'), # cardinal numbers\n",
        "(r'(The|the|A|a|An|an)$', 'AT'), # articles\n",
        "(r'.*able$', 'JJ'), # adjectives\n",
        "(r'.*ness$', 'NN'), # nouns formed from adjectives\n",
        "(r'.*ly$', 'RB'), # adverbs\n",
        "(r'.*s$', 'NNS'), # plural nouns\n",
        "(r'.*ing$', 'VBG'), # gerunds\n",
        "(r'.*ed$', 'VBD'), # past tense verbs\n",
        "(r'.*', 'NN') # nouns (default)\n",
        "])\n",
        "print(regexp_tagger)\n",
        "print(regexp_tagger.tag(test_sent))"
      ],
      "metadata": {
        "colab": {
          "base_uri": "https://localhost:8080/"
        },
        "id": "oTWvqCJWwNgs",
        "outputId": "a6f95cda-aec3-46ed-ea02-b7576c0f08b7"
      },
      "execution_count": 14,
      "outputs": [
        {
          "output_type": "stream",
          "name": "stdout",
          "text": [
            "[nltk_data] Downloading package brown to /root/nltk_data...\n",
            "[nltk_data]   Unzipping corpora/brown.zip.\n",
            "<Regexp Tagger: size=9>\n",
            "[('The', 'AT'), ('Fulton', 'NN'), ('County', 'NN'), ('Grand', 'NN'), ('Jury', 'NN'), ('said', 'NN'), ('Friday', 'NN'), ('an', 'AT'), ('investigation', 'NN'), ('of', 'NN'), (\"Atlanta's\", 'NNS'), ('recent', 'NN'), ('primary', 'NN'), ('election', 'NN'), ('produced', 'VBD'), ('``', 'NN'), ('no', 'NN'), ('evidence', 'NN'), (\"''\", 'NN'), ('that', 'NN'), ('any', 'NN'), ('irregularities', 'NNS'), ('took', 'NN'), ('place', 'NN'), ('.', 'NN')]\n"
          ]
        }
      ]
    },
    {
      "cell_type": "code",
      "source": [
        "#iii) UnigramTagger\n",
        "# Loading Libraries\n",
        "from nltk.tag import UnigramTagger\n",
        "from nltk.corpus import treebank\n",
        "# Training using first 10 tagged sentences of the treebank corpus as data.\n",
        "# Using data\n",
        "train_sents = treebank.tagged_sents()[:10]\n",
        "# Initializing\n",
        "tagger = UnigramTagger(train_sents)\n",
        "# Lets see the first sentence\n",
        "# (of the treebank corpus) as list\n",
        "print(treebank.sents()[0])\n",
        "print('\\n',tagger.tag(treebank.sents()[0]))"
      ],
      "metadata": {
        "colab": {
          "base_uri": "https://localhost:8080/"
        },
        "id": "ENUiAsGCxIRI",
        "outputId": "55275cfc-1df4-45ea-b65b-799cce794208"
      },
      "execution_count": 15,
      "outputs": [
        {
          "output_type": "stream",
          "name": "stdout",
          "text": [
            "['Pierre', 'Vinken', ',', '61', 'years', 'old', ',', 'will', 'join', 'the', 'board', 'as', 'a', 'nonexecutive', 'director', 'Nov.', '29', '.']\n",
            "\n",
            " [('Pierre', 'NNP'), ('Vinken', 'NNP'), (',', ','), ('61', 'CD'), ('years', 'NNS'), ('old', 'JJ'), (',', ','), ('will', 'MD'), ('join', 'VB'), ('the', 'DT'), ('board', 'NN'), ('as', 'IN'), ('a', 'DT'), ('nonexecutive', 'JJ'), ('director', 'NN'), ('Nov.', 'NNP'), ('29', 'CD'), ('.', '.')]\n"
          ]
        }
      ]
    },
    {
      "cell_type": "code",
      "source": [
        "#Finding the tagged results after training.\n",
        "tagger.tag(treebank.sents()[0])\n",
        "#Overriding the context model\n",
        "tagger = UnigramTagger(model ={'Pierre': 'NN'})\n",
        "print('\\n',tagger.tag(treebank.sents()[0]))"
      ],
      "metadata": {
        "colab": {
          "base_uri": "https://localhost:8080/"
        },
        "id": "Ysxu3_wtxQOO",
        "outputId": "fcba30ad-1b46-44a9-ecaa-e437b5b62253"
      },
      "execution_count": 16,
      "outputs": [
        {
          "output_type": "stream",
          "name": "stdout",
          "text": [
            "\n",
            " [('Pierre', 'NN'), ('Vinken', None), (',', None), ('61', None), ('years', None), ('old', None), (',', None), ('will', None), ('join', None), ('the', None), ('board', None), ('as', None), ('a', None), ('nonexecutive', None), ('director', None), ('Nov.', None), ('29', None), ('.', None)]\n"
          ]
        }
      ]
    },
    {
      "cell_type": "code",
      "source": [
        "Find different words from a given plain text without any space by comparing this text with a given corpus of words. Also find the score of words."
      ],
      "metadata": {
        "id": "4S8kmwk6xWye"
      },
      "execution_count": null,
      "outputs": []
    }
  ]
}