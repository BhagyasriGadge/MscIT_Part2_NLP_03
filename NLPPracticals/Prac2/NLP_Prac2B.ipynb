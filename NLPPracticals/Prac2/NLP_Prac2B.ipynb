{
  "nbformat": 4,
  "nbformat_minor": 0,
  "metadata": {
    "colab": {
      "name": "NLP_Prac2B.ipynb",
      "provenance": [],
      "collapsed_sections": []
    },
    "kernelspec": {
      "name": "python3",
      "display_name": "Python 3"
    },
    "language_info": {
      "name": "python"
    }
  },
  "cells": [
    {
      "cell_type": "code",
      "execution_count": 2,
      "metadata": {
        "colab": {
          "base_uri": "https://localhost:8080/"
        },
        "id": "Geeg79QOKORb",
        "outputId": "97b3590a-8b06-4284-c99a-588359166a89"
      },
      "outputs": [
        {
          "output_type": "stream",
          "name": "stdout",
          "text": [
            "\n",
            " File list: \n",
            "\n",
            "[]\n",
            "/content/sample_data/myTextFile.txt\n"
          ]
        }
      ],
      "source": [
        "#b) Create and use your own corpora (plaintext, categorical)\n",
        "import nltk\n",
        "from nltk.corpus import PlaintextCorpusReader\n",
        "corpus_root = '/content/sample_data/myTextFile.txt'\n",
        "filelist = PlaintextCorpusReader(corpus_root, '.*')\n",
        "print ('\\n File list: \\n')\n",
        "print (filelist.fileids())\n",
        "print (filelist.root)"
      ]
    },
    {
      "cell_type": "code",
      "source": [
        "print ('\\n\\nStatistics for each text:\\n')\n",
        "print ('AvgWordLen\\tAvgSentenceLen\\tno.ofTimesEachWordAppearsOnAvg\\tFileName')\n",
        "for fileid in filelist.fileids():\n",
        "  num_chars = len(filelist.raw(fileid))\n",
        "  num_words = len(filelist.words(fileid))\n",
        "  num_sents = len(filelist.sents(fileid))\n",
        "  num_vocab = len(set([w.lower() for w in filelist.words(fileid)]))\n",
        "  print (int(num_chars/num_words),'\\t\\t\\t', int(num_words/num_sents),'\\t\\t\\t', int(num_words/num_vocab),'\\t\\t', fileid)"
      ],
      "metadata": {
        "colab": {
          "base_uri": "https://localhost:8080/"
        },
        "id": "ALRMtXZKK6jk",
        "outputId": "6ad856fb-e657-4266-b94c-d3e879f59e89"
      },
      "execution_count": 3,
      "outputs": [
        {
          "output_type": "stream",
          "name": "stdout",
          "text": [
            "\n",
            "\n",
            "Statistics for each text:\n",
            "\n",
            "AvgWordLen\tAvgSentenceLen\tno.ofTimesEachWordAppearsOnAvg\tFileName\n"
          ]
        }
      ]
    }
  ]
}