{
  "nbformat": 4,
  "nbformat_minor": 0,
  "metadata": {
    "colab": {
      "name": "NLP_Prac7b&c.ipynb",
      "provenance": [],
      "collapsed_sections": []
    },
    "kernelspec": {
      "name": "python3",
      "display_name": "Python 3"
    },
    "language_info": {
      "name": "python"
    }
  },
  "cells": [
    {
      "cell_type": "code",
      "source": [
        "#b) Accept the input string with Regular expression of Finite Automaton: 101+.\n",
        "def FA(s):\n",
        "  #if the length is less than 3 then it can't be accepted, Therefore end the process.\n",
        "  if len(s)<3:\n",
        "    return \"Rejected\"\n",
        "  #first three characters are fixed. Therefore, checking them using index\n",
        "  if s[0]=='1':\n",
        "    if s[1]=='0':\n",
        "      if s[2]=='1':\n",
        "        # After index 2 only \"1\" can appear. Therefore break the process if any other character is detected\n",
        "        for i in range(3,len(s)):\n",
        "          if s[i]!='1':\n",
        "            return \"Rejected\"\n",
        "        return \"Accepted\" # if all 4 nested if true\n",
        "      return \"Rejected\" # else of 3rd if\n",
        "    return \"Rejected\" # else of 2nd if\n",
        "  return \"Rejected\" # else of 1st if"
      ],
      "metadata": {
        "id": "tpuAQOWVSJBG"
      },
      "execution_count": 9,
      "outputs": []
    },
    {
      "cell_type": "code",
      "source": [
        "inputs=['1','10101','101','10111','01010','100','','10111101','1011111']\n",
        "for i in inputs:\n",
        "  print(FA(i))"
      ],
      "metadata": {
        "colab": {
          "base_uri": "https://localhost:8080/"
        },
        "id": "tFxKvCuqTlFn",
        "outputId": "5917ad40-3708-4f2d-814d-3ccc0347c7de"
      },
      "execution_count": 10,
      "outputs": [
        {
          "output_type": "stream",
          "name": "stdout",
          "text": [
            "Rejected\n",
            "Rejected\n",
            "Accepted\n",
            "Accepted\n",
            "Rejected\n",
            "Rejected\n",
            "Rejected\n",
            "Rejected\n",
            "Accepted\n"
          ]
        }
      ]
    },
    {
      "cell_type": "code",
      "source": [
        "#c) Accept the input string with Regular expression of FA: (a+b)*bba.\n",
        "def FA(s):\n",
        "  size=0\n",
        "  #scan complete string and make sure that it contains only 'a' & 'b'\n",
        "  for i in s:\n",
        "    if i=='a' or i=='b':\n",
        "      size+=1\n",
        "    else:\n",
        "      return \"Rejected\"\n",
        "  if size>=3:\n",
        "    #check the last 3 elements\n",
        "    if s[size-3]=='b':\n",
        "      if s[size-2]=='b':\n",
        "        if s[size-1]=='a':\n",
        "          return \"Accepted\" # if all 4 if true\n",
        "        return \"Rejected\" # else of 4th if\n",
        "      return \"Rejected\" # else of 3rd if\n",
        "    return \"Rejected\" # else of 2nd if\n",
        "  return \"Rejected\" # else of 1st if"
      ],
      "metadata": {
        "id": "uCAfkN2PUzw3"
      },
      "execution_count": 11,
      "outputs": []
    },
    {
      "cell_type": "code",
      "source": [
        "inputs=['bba', 'ababbba', 'abba','abb', 'baba','bbb','']\n",
        "for i in inputs:\n",
        "  print(FA(i))"
      ],
      "metadata": {
        "colab": {
          "base_uri": "https://localhost:8080/"
        },
        "id": "RZLkMRhoVcwc",
        "outputId": "7a6255d2-5a7e-4a91-a8ed-8853f93efd3f"
      },
      "execution_count": 12,
      "outputs": [
        {
          "output_type": "stream",
          "name": "stdout",
          "text": [
            "Accepted\n",
            "Accepted\n",
            "Accepted\n",
            "Rejected\n",
            "Rejected\n",
            "Rejected\n",
            "Rejected\n"
          ]
        }
      ]
    }
  ]
}