{
  "nbformat": 4,
  "nbformat_minor": 0,
  "metadata": {
    "colab": {
      "name": "NLP_Prac5A.ipynb",
      "provenance": [],
      "collapsed_sections": []
    },
    "kernelspec": {
      "name": "python3",
      "display_name": "Python 3"
    },
    "language_info": {
      "name": "python"
    }
  },
  "cells": [
    {
      "cell_type": "code",
      "execution_count": 1,
      "metadata": {
        "colab": {
          "base_uri": "https://localhost:8080/",
          "height": 1000
        },
        "id": "-i4cOPLTtdvM",
        "outputId": "5595b8b8-f821-488b-b606-55b2700730e1"
      },
      "outputs": [
        {
          "output_type": "stream",
          "name": "stdout",
          "text": [
            "Looking in links: https://download.pytorch.org/whl/torch_stable.html\n",
            "Collecting torch==1.3.1+cpu\n",
            "  Downloading https://download.pytorch.org/whl/cpu/torch-1.3.1%2Bcpu-cp37-cp37m-linux_x86_64.whl (111.8 MB)\n",
            "\u001b[K     |████████████████████████████████| 111.8 MB 108 kB/s \n",
            "\u001b[?25hRequirement already satisfied: numpy in /usr/local/lib/python3.7/dist-packages (from torch==1.3.1+cpu) (1.21.5)\n",
            "Installing collected packages: torch\n",
            "  Attempting uninstall: torch\n",
            "    Found existing installation: torch 1.10.0+cu111\n",
            "    Uninstalling torch-1.10.0+cu111:\n",
            "      Successfully uninstalled torch-1.10.0+cu111\n",
            "\u001b[31mERROR: pip's dependency resolver does not currently take into account all the packages that are installed. This behaviour is the source of the following dependency conflicts.\n",
            "torchvision 0.11.1+cu111 requires torch==1.10.0, but you have torch 1.3.1+cpu which is incompatible.\n",
            "torchtext 0.11.0 requires torch==1.10.0, but you have torch 1.3.1+cpu which is incompatible.\n",
            "torchaudio 0.10.0+cu111 requires torch==1.10.0, but you have torch 1.3.1+cpu which is incompatible.\u001b[0m\n",
            "Successfully installed torch-1.3.1+cpu\n",
            "Collecting inltk\n",
            "  Downloading inltk-0.9-py3-none-any.whl (13 kB)\n",
            "Collecting async-timeout>=3.0.1\n",
            "  Downloading async_timeout-4.0.2-py3-none-any.whl (5.8 kB)\n",
            "Requirement already satisfied: matplotlib in /usr/local/lib/python3.7/dist-packages (from inltk) (3.2.2)\n",
            "Requirement already satisfied: pyyaml in /usr/local/lib/python3.7/dist-packages (from inltk) (3.13)\n",
            "Requirement already satisfied: packaging in /usr/local/lib/python3.7/dist-packages (from inltk) (21.3)\n",
            "Requirement already satisfied: beautifulsoup4 in /usr/local/lib/python3.7/dist-packages (from inltk) (4.6.3)\n",
            "Requirement already satisfied: requests in /usr/local/lib/python3.7/dist-packages (from inltk) (2.23.0)\n",
            "Collecting aiohttp>=3.5.4\n",
            "  Downloading aiohttp-3.8.1-cp37-cp37m-manylinux_2_5_x86_64.manylinux1_x86_64.manylinux_2_12_x86_64.manylinux2010_x86_64.whl (1.1 MB)\n",
            "\u001b[K     |████████████████████████████████| 1.1 MB 5.5 MB/s \n",
            "\u001b[?25hRequirement already satisfied: spacy>=2.0.18 in /usr/local/lib/python3.7/dist-packages (from inltk) (2.2.4)\n",
            "Requirement already satisfied: nvidia-ml-py3 in /usr/local/lib/python3.7/dist-packages (from inltk) (7.352.0)\n",
            "Collecting sentencepiece\n",
            "  Downloading sentencepiece-0.1.96-cp37-cp37m-manylinux_2_17_x86_64.manylinux2014_x86_64.whl (1.2 MB)\n",
            "\u001b[K     |████████████████████████████████| 1.2 MB 28.7 MB/s \n",
            "\u001b[?25hRequirement already satisfied: pandas in /usr/local/lib/python3.7/dist-packages (from inltk) (1.3.5)\n",
            "Collecting fastai==1.0.57\n",
            "  Downloading fastai-1.0.57-py3-none-any.whl (233 kB)\n",
            "\u001b[K     |████████████████████████████████| 233 kB 50.9 MB/s \n",
            "\u001b[?25hCollecting typing\n",
            "  Downloading typing-3.7.4.3.tar.gz (78 kB)\n",
            "\u001b[K     |████████████████████████████████| 78 kB 7.6 MB/s \n",
            "\u001b[?25hRequirement already satisfied: bottleneck in /usr/local/lib/python3.7/dist-packages (from inltk) (1.3.4)\n",
            "Requirement already satisfied: fastprogress>=0.1.19 in /usr/local/lib/python3.7/dist-packages (from inltk) (1.0.2)\n",
            "Requirement already satisfied: scipy in /usr/local/lib/python3.7/dist-packages (from inltk) (1.4.1)\n",
            "Requirement already satisfied: numexpr in /usr/local/lib/python3.7/dist-packages (from inltk) (2.8.1)\n",
            "Requirement already satisfied: Pillow in /usr/local/lib/python3.7/dist-packages (from inltk) (7.1.2)\n",
            "Requirement already satisfied: numpy>=1.15 in /usr/local/lib/python3.7/dist-packages (from inltk) (1.21.5)\n",
            "Requirement already satisfied: torchvision in /usr/local/lib/python3.7/dist-packages (from fastai==1.0.57->inltk) (0.11.1+cu111)\n",
            "Requirement already satisfied: torch>=1.0.0 in /usr/local/lib/python3.7/dist-packages (from fastai==1.0.57->inltk) (1.3.1+cpu)\n",
            "Requirement already satisfied: typing-extensions>=3.7.4 in /usr/local/lib/python3.7/dist-packages (from aiohttp>=3.5.4->inltk) (3.10.0.2)\n",
            "Collecting frozenlist>=1.1.1\n",
            "  Downloading frozenlist-1.3.0-cp37-cp37m-manylinux_2_5_x86_64.manylinux1_x86_64.manylinux_2_17_x86_64.manylinux2014_x86_64.whl (144 kB)\n",
            "\u001b[K     |████████████████████████████████| 144 kB 55.2 MB/s \n",
            "\u001b[?25hCollecting asynctest==0.13.0\n",
            "  Downloading asynctest-0.13.0-py3-none-any.whl (26 kB)\n",
            "Requirement already satisfied: charset-normalizer<3.0,>=2.0 in /usr/local/lib/python3.7/dist-packages (from aiohttp>=3.5.4->inltk) (2.0.12)\n",
            "Collecting yarl<2.0,>=1.0\n",
            "  Downloading yarl-1.7.2-cp37-cp37m-manylinux_2_5_x86_64.manylinux1_x86_64.manylinux_2_12_x86_64.manylinux2010_x86_64.whl (271 kB)\n",
            "\u001b[K     |████████████████████████████████| 271 kB 58.8 MB/s \n",
            "\u001b[?25hRequirement already satisfied: attrs>=17.3.0 in /usr/local/lib/python3.7/dist-packages (from aiohttp>=3.5.4->inltk) (21.4.0)\n",
            "Collecting aiosignal>=1.1.2\n",
            "  Downloading aiosignal-1.2.0-py3-none-any.whl (8.2 kB)\n",
            "Collecting multidict<7.0,>=4.5\n",
            "  Downloading multidict-6.0.2-cp37-cp37m-manylinux_2_17_x86_64.manylinux2014_x86_64.whl (94 kB)\n",
            "\u001b[K     |████████████████████████████████| 94 kB 3.8 MB/s \n",
            "\u001b[?25hRequirement already satisfied: catalogue<1.1.0,>=0.0.7 in /usr/local/lib/python3.7/dist-packages (from spacy>=2.0.18->inltk) (1.0.0)\n",
            "Requirement already satisfied: plac<1.2.0,>=0.9.6 in /usr/local/lib/python3.7/dist-packages (from spacy>=2.0.18->inltk) (1.1.3)\n",
            "Requirement already satisfied: murmurhash<1.1.0,>=0.28.0 in /usr/local/lib/python3.7/dist-packages (from spacy>=2.0.18->inltk) (1.0.6)\n",
            "Requirement already satisfied: wasabi<1.1.0,>=0.4.0 in /usr/local/lib/python3.7/dist-packages (from spacy>=2.0.18->inltk) (0.9.0)\n",
            "Requirement already satisfied: srsly<1.1.0,>=1.0.2 in /usr/local/lib/python3.7/dist-packages (from spacy>=2.0.18->inltk) (1.0.5)\n",
            "Requirement already satisfied: tqdm<5.0.0,>=4.38.0 in /usr/local/lib/python3.7/dist-packages (from spacy>=2.0.18->inltk) (4.63.0)\n",
            "Requirement already satisfied: blis<0.5.0,>=0.4.0 in /usr/local/lib/python3.7/dist-packages (from spacy>=2.0.18->inltk) (0.4.1)\n",
            "Requirement already satisfied: preshed<3.1.0,>=3.0.2 in /usr/local/lib/python3.7/dist-packages (from spacy>=2.0.18->inltk) (3.0.6)\n",
            "Requirement already satisfied: cymem<2.1.0,>=2.0.2 in /usr/local/lib/python3.7/dist-packages (from spacy>=2.0.18->inltk) (2.0.6)\n",
            "Requirement already satisfied: thinc==7.4.0 in /usr/local/lib/python3.7/dist-packages (from spacy>=2.0.18->inltk) (7.4.0)\n",
            "Requirement already satisfied: setuptools in /usr/local/lib/python3.7/dist-packages (from spacy>=2.0.18->inltk) (57.4.0)\n",
            "Requirement already satisfied: importlib-metadata>=0.20 in /usr/local/lib/python3.7/dist-packages (from catalogue<1.1.0,>=0.0.7->spacy>=2.0.18->inltk) (4.11.2)\n",
            "Requirement already satisfied: zipp>=0.5 in /usr/local/lib/python3.7/dist-packages (from importlib-metadata>=0.20->catalogue<1.1.0,>=0.0.7->spacy>=2.0.18->inltk) (3.7.0)\n",
            "Requirement already satisfied: urllib3!=1.25.0,!=1.25.1,<1.26,>=1.21.1 in /usr/local/lib/python3.7/dist-packages (from requests->inltk) (1.24.3)\n",
            "Requirement already satisfied: idna<3,>=2.5 in /usr/local/lib/python3.7/dist-packages (from requests->inltk) (2.10)\n",
            "Requirement already satisfied: chardet<4,>=3.0.2 in /usr/local/lib/python3.7/dist-packages (from requests->inltk) (3.0.4)\n",
            "Requirement already satisfied: certifi>=2017.4.17 in /usr/local/lib/python3.7/dist-packages (from requests->inltk) (2021.10.8)\n",
            "Requirement already satisfied: kiwisolver>=1.0.1 in /usr/local/lib/python3.7/dist-packages (from matplotlib->inltk) (1.3.2)\n",
            "Requirement already satisfied: pyparsing!=2.0.4,!=2.1.2,!=2.1.6,>=2.0.1 in /usr/local/lib/python3.7/dist-packages (from matplotlib->inltk) (3.0.7)\n",
            "Requirement already satisfied: python-dateutil>=2.1 in /usr/local/lib/python3.7/dist-packages (from matplotlib->inltk) (2.8.2)\n",
            "Requirement already satisfied: cycler>=0.10 in /usr/local/lib/python3.7/dist-packages (from matplotlib->inltk) (0.11.0)\n",
            "Requirement already satisfied: six>=1.5 in /usr/local/lib/python3.7/dist-packages (from python-dateutil>=2.1->matplotlib->inltk) (1.15.0)\n",
            "Requirement already satisfied: pytz>=2017.3 in /usr/local/lib/python3.7/dist-packages (from pandas->inltk) (2018.9)\n",
            "Collecting torch>=1.0.0\n",
            "  Downloading torch-1.10.0-cp37-cp37m-manylinux1_x86_64.whl (881.9 MB)\n",
            "\u001b[K     |██████████████████████████████▎ | 834.1 MB 1.2 MB/s eta 0:00:39tcmalloc: large alloc 1147494400 bytes == 0x55fa6a268000 @  0x7f741310c615 0x55fa2fbd53bc 0x55fa2fcb618a 0x55fa2fbd81cd 0x55fa2fccab3d 0x55fa2fc4c458 0x55fa2fc4702f 0x55fa2fbd9aba 0x55fa2fc4c2c0 0x55fa2fc4702f 0x55fa2fbd9aba 0x55fa2fc48cd4 0x55fa2fccb986 0x55fa2fc48350 0x55fa2fccb986 0x55fa2fc48350 0x55fa2fccb986 0x55fa2fc48350 0x55fa2fbd9f19 0x55fa2fc1da79 0x55fa2fbd8b32 0x55fa2fc4c1dd 0x55fa2fc4702f 0x55fa2fbd9aba 0x55fa2fc48cd4 0x55fa2fc4702f 0x55fa2fbd9aba 0x55fa2fc47eae 0x55fa2fbd99da 0x55fa2fc48108 0x55fa2fc4702f\n",
            "\u001b[K     |████████████████████████████████| 881.9 MB 19 kB/s \n",
            "\u001b[?25hBuilding wheels for collected packages: typing\n",
            "  Building wheel for typing (setup.py) ... \u001b[?25l\u001b[?25hdone\n",
            "  Created wheel for typing: filename=typing-3.7.4.3-py3-none-any.whl size=26325 sha256=68294e7f536991d9d1231b430c2008ff996177b8bbedcebd7d653e6c85c31a7b\n",
            "  Stored in directory: /root/.cache/pip/wheels/35/f3/15/01aa6571f0a72ee6ae7b827c1491c37a1f72d686fd22b43b0e\n",
            "Successfully built typing\n",
            "Installing collected packages: torch, multidict, frozenlist, yarl, asynctest, async-timeout, aiosignal, typing, sentencepiece, fastai, aiohttp, inltk\n",
            "  Attempting uninstall: torch\n",
            "    Found existing installation: torch 1.3.1+cpu\n",
            "    Uninstalling torch-1.3.1+cpu:\n",
            "      Successfully uninstalled torch-1.3.1+cpu\n",
            "  Attempting uninstall: fastai\n",
            "    Found existing installation: fastai 1.0.61\n",
            "    Uninstalling fastai-1.0.61:\n",
            "      Successfully uninstalled fastai-1.0.61\n",
            "Successfully installed aiohttp-3.8.1 aiosignal-1.2.0 async-timeout-4.0.2 asynctest-0.13.0 fastai-1.0.57 frozenlist-1.3.0 inltk-0.9 multidict-6.0.2 sentencepiece-0.1.96 torch-1.10.0 typing-3.7.4.3 yarl-1.7.2\n"
          ]
        },
        {
          "output_type": "display_data",
          "data": {
            "application/vnd.colab-display-data+json": {
              "pip_warning": {
                "packages": [
                  "typing"
                ]
              }
            }
          },
          "metadata": {}
        },
        {
          "output_type": "stream",
          "name": "stdout",
          "text": [
            "Collecting tornado==4.5.3\n",
            "  Downloading tornado-4.5.3.tar.gz (484 kB)\n",
            "\u001b[?25l\r\u001b[K     |▊                               | 10 kB 27.4 MB/s eta 0:00:01\r\u001b[K     |█▍                              | 20 kB 10.2 MB/s eta 0:00:01\r\u001b[K     |██                              | 30 kB 8.2 MB/s eta 0:00:01\r\u001b[K     |██▊                             | 40 kB 4.6 MB/s eta 0:00:01\r\u001b[K     |███▍                            | 51 kB 4.3 MB/s eta 0:00:01\r\u001b[K     |████                            | 61 kB 5.1 MB/s eta 0:00:01\r\u001b[K     |████▊                           | 71 kB 5.2 MB/s eta 0:00:01\r\u001b[K     |█████▍                          | 81 kB 5.2 MB/s eta 0:00:01\r\u001b[K     |██████                          | 92 kB 5.8 MB/s eta 0:00:01\r\u001b[K     |██████▊                         | 102 kB 5.3 MB/s eta 0:00:01\r\u001b[K     |███████▍                        | 112 kB 5.3 MB/s eta 0:00:01\r\u001b[K     |████████▏                       | 122 kB 5.3 MB/s eta 0:00:01\r\u001b[K     |████████▉                       | 133 kB 5.3 MB/s eta 0:00:01\r\u001b[K     |█████████▌                      | 143 kB 5.3 MB/s eta 0:00:01\r\u001b[K     |██████████▏                     | 153 kB 5.3 MB/s eta 0:00:01\r\u001b[K     |██████████▉                     | 163 kB 5.3 MB/s eta 0:00:01\r\u001b[K     |███████████▌                    | 174 kB 5.3 MB/s eta 0:00:01\r\u001b[K     |████████████▏                   | 184 kB 5.3 MB/s eta 0:00:01\r\u001b[K     |████████████▉                   | 194 kB 5.3 MB/s eta 0:00:01\r\u001b[K     |█████████████▌                  | 204 kB 5.3 MB/s eta 0:00:01\r\u001b[K     |██████████████▏                 | 215 kB 5.3 MB/s eta 0:00:01\r\u001b[K     |██████████████▉                 | 225 kB 5.3 MB/s eta 0:00:01\r\u001b[K     |███████████████▋                | 235 kB 5.3 MB/s eta 0:00:01\r\u001b[K     |████████████████▎               | 245 kB 5.3 MB/s eta 0:00:01\r\u001b[K     |█████████████████               | 256 kB 5.3 MB/s eta 0:00:01\r\u001b[K     |█████████████████▋              | 266 kB 5.3 MB/s eta 0:00:01\r\u001b[K     |██████████████████▎             | 276 kB 5.3 MB/s eta 0:00:01\r\u001b[K     |███████████████████             | 286 kB 5.3 MB/s eta 0:00:01\r\u001b[K     |███████████████████▋            | 296 kB 5.3 MB/s eta 0:00:01\r\u001b[K     |████████████████████▎           | 307 kB 5.3 MB/s eta 0:00:01\r\u001b[K     |█████████████████████           | 317 kB 5.3 MB/s eta 0:00:01\r\u001b[K     |█████████████████████▋          | 327 kB 5.3 MB/s eta 0:00:01\r\u001b[K     |██████████████████████▎         | 337 kB 5.3 MB/s eta 0:00:01\r\u001b[K     |███████████████████████         | 348 kB 5.3 MB/s eta 0:00:01\r\u001b[K     |███████████████████████▊        | 358 kB 5.3 MB/s eta 0:00:01\r\u001b[K     |████████████████████████▍       | 368 kB 5.3 MB/s eta 0:00:01\r\u001b[K     |█████████████████████████       | 378 kB 5.3 MB/s eta 0:00:01\r\u001b[K     |█████████████████████████▊      | 389 kB 5.3 MB/s eta 0:00:01\r\u001b[K     |██████████████████████████▍     | 399 kB 5.3 MB/s eta 0:00:01\r\u001b[K     |███████████████████████████     | 409 kB 5.3 MB/s eta 0:00:01\r\u001b[K     |███████████████████████████▊    | 419 kB 5.3 MB/s eta 0:00:01\r\u001b[K     |████████████████████████████▍   | 430 kB 5.3 MB/s eta 0:00:01\r\u001b[K     |█████████████████████████████   | 440 kB 5.3 MB/s eta 0:00:01\r\u001b[K     |█████████████████████████████▊  | 450 kB 5.3 MB/s eta 0:00:01\r\u001b[K     |██████████████████████████████▌ | 460 kB 5.3 MB/s eta 0:00:01\r\u001b[K     |███████████████████████████████▏| 471 kB 5.3 MB/s eta 0:00:01\r\u001b[K     |███████████████████████████████▉| 481 kB 5.3 MB/s eta 0:00:01\r\u001b[K     |████████████████████████████████| 484 kB 5.3 MB/s \n",
            "\u001b[?25hBuilding wheels for collected packages: tornado\n",
            "  Building wheel for tornado (setup.py) ... \u001b[?25l\u001b[?25hdone\n",
            "  Created wheel for tornado: filename=tornado-4.5.3-cp37-cp37m-linux_x86_64.whl size=434054 sha256=4db50c939616204715825be8d64620fbdfbd7884d8ba3f43896c9fd592ea4091\n",
            "  Stored in directory: /root/.cache/pip/wheels/a2/45/43/36ec7a893e16c1212a6b1505ded0a2d73cf8e863a0227c8e04\n",
            "Successfully built tornado\n",
            "Installing collected packages: tornado\n",
            "  Attempting uninstall: tornado\n",
            "    Found existing installation: tornado 5.1.1\n",
            "    Uninstalling tornado-5.1.1:\n",
            "      Successfully uninstalled tornado-5.1.1\n",
            "\u001b[31mERROR: pip's dependency resolver does not currently take into account all the packages that are installed. This behaviour is the source of the following dependency conflicts.\n",
            "google-colab 1.0.0 requires tornado~=5.1.0; python_version >= \"3.0\", but you have tornado 4.5.3 which is incompatible.\n",
            "bokeh 2.3.3 requires tornado>=5.1, but you have tornado 4.5.3 which is incompatible.\u001b[0m\n",
            "Successfully installed tornado-4.5.3\n"
          ]
        },
        {
          "output_type": "display_data",
          "data": {
            "application/vnd.colab-display-data+json": {
              "pip_warning": {
                "packages": [
                  "tornado"
                ]
              }
            }
          },
          "metadata": {}
        }
      ],
      "source": [
        "!pip install torch==1.3.1+cpu -f https://download.pytorch.org/whl/torch_stable.html\n",
        "!pip install inltk\n",
        "!pip install tornado==4.5.3\n"
      ]
    },
    {
      "cell_type": "code",
      "source": [
        "from inltk.inltk import setup\n",
        "setup('hi')\n",
        "from inltk.inltk import tokenize\n",
        "hindi_text = \"\"\"प्राकृतिक भाषा सीखना बहुि तिलचस्प है।\"\"\"\n",
        "# tokenize(input text, language code)\n",
        "tokenize(hindi_text, \"hi\")"
      ],
      "metadata": {
        "colab": {
          "base_uri": "https://localhost:8080/"
        },
        "id": "UYLqgVdhtkey",
        "outputId": "cc2bd167-c1fd-4555-ad5c-dd24e360c185"
      },
      "execution_count": 1,
      "outputs": [
        {
          "output_type": "stream",
          "name": "stdout",
          "text": [
            "Done!\n"
          ]
        },
        {
          "output_type": "execute_result",
          "data": {
            "text/plain": [
              "['▁प्राकृतिक', '▁भाषा', '▁सीखना', '▁बहु', 'ि', '▁तिल', 'च', 'स्प', '▁है', '।']"
            ]
          },
          "metadata": {},
          "execution_count": 1
        }
      ]
    }
  ]
}